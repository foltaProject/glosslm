{
 "cells": [
  {
   "cell_type": "code",
   "execution_count": 4,
   "metadata": {},
   "outputs": [],
   "source": [
    "import json\n",
    "import os\n",
    "\n",
    "vocab_dir = \"words/\"\n",
    "for filename in os.listdir(vocab_dir):\n",
    "    lang = filename.split(\"-\")[0]\n",
    "    f = open(f\"{vocab_dir}/{filename}\")\n",
    "    data = json.load(f)\n",
    "    gloss_dict = {}\n",
    "    for key in data.keys():\n",
    "        morph_list = key.split(\"-\")\n",
    "        word = \"\".join(morph_list)\n",
    "        gloss_dict[word] = data[key]\n",
    "    with open(f\"words/{lang}-unseg.json\", \"w\") as fp:\n",
    "        json.dump(gloss_dict, fp, sort_keys=True, indent=4, ensure_ascii=False)"
   ]
  },
  {
   "cell_type": "code",
   "execution_count": null,
   "metadata": {},
   "outputs": [],
   "source": []
  }
 ],
 "metadata": {
  "kernelspec": {
   "display_name": "Python 3",
   "language": "python",
   "name": "python3"
  },
  "language_info": {
   "codemirror_mode": {
    "name": "ipython",
    "version": 3
   },
   "file_extension": ".py",
   "mimetype": "text/x-python",
   "name": "python",
   "nbconvert_exporter": "python",
   "pygments_lexer": "ipython3",
   "version": "3.9.7"
  },
  "orig_nbformat": 4,
  "vscode": {
   "interpreter": {
    "hash": "f9f85f796d01129d0dd105a088854619f454435301f6ffec2fea96ecbd9be4ac"
   }
  }
 },
 "nbformat": 4,
 "nbformat_minor": 2
}
