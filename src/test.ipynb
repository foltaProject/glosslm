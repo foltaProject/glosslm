{
 "cells": [
  {
   "cell_type": "code",
   "execution_count": 1,
   "metadata": {
    "ExecuteTime": {
     "end_time": "2023-12-31T02:28:15.257666Z",
     "start_time": "2023-12-31T02:27:26.444720Z"
    },
    "collapsed": false
   },
   "outputs": [
    {
     "name": "stdout",
     "output_type": "stream",
     "text": [
      "cpu\n",
      "Loading model from google/byt5-base\n",
      "Creating trainer...\n",
      "Creating predictions...\n"
     ]
    },
    {
     "data": {
      "text/html": [
       "\n",
       "    <div>\n",
       "      \n",
       "      <progress value='1' max='10' style='width:300px; height:20px; vertical-align: middle;'></progress>\n",
       "      [ 1/10 : < :]\n",
       "    </div>\n",
       "    "
      ],
      "text/plain": [
       "<IPython.core.display.HTML object>"
      ]
     },
     "metadata": {},
     "output_type": "display_data"
    },
    {
     "name": "stdout",
     "output_type": "stream",
     "text": [
      "[[   0  101  120  119   35   54   49   76   80   83   72   85   73   49\n",
      "    81   72   74   48  118  100  124   49  118   49  119   49   48  115\n",
      "   104  117  118   49   83   79   35  124  114  120   35  110  113  114\n",
      "   122    1 -100 -100 -100 -100 -100 -100 -100 -100 -100 -100 -100 -100\n",
      "  -100 -100 -100 -100 -100 -100 -100 -100 -100 -100 -100 -100 -100 -100\n",
      "  -100 -100 -100 -100 -100 -100 -100]\n",
      " [   0  101  120  119   35   54   49   76   80   83   72   85   73   49\n",
      "    81   72   74   48  118  100  124   49  118   49  119   49   48  115\n",
      "   104  117  118   49   83   79   35  124  114  120   35  110  113  114\n",
      "   122    1 -100 -100 -100 -100 -100 -100 -100 -100 -100 -100 -100 -100\n",
      "  -100 -100 -100 -100 -100 -100 -100 -100 -100 -100 -100 -100 -100 -100\n",
      "  -100 -100 -100 -100 -100 -100 -100]\n",
      " [   0  119  107  108  118   35  122  107  104  113   49   83   68   86\n",
      "    87   48  118  115  104  100  110   48   54   83   79   35   76   70\n",
      "    49  102  114  117  117  117  104  102  119   48   54   83   79    1\n",
      "  -100 -100 -100 -100 -100 -100 -100 -100 -100 -100 -100 -100 -100 -100\n",
      "  -100 -100 -100 -100 -100 -100 -100 -100 -100 -100 -100 -100 -100 -100\n",
      "  -100 -100 -100 -100 -100 -100 -100]\n",
      " [   0  119  107  108  118   35  122  107  104  113   49   83   68   86\n",
      "    87   48  118  115  104  100  110   48   54   83   79   35   76   70\n",
      "    49  119  104  111  111   49  119  107  104   49  119  117  120  119\n",
      "   107   48   54   83   79    1 -100 -100 -100 -100 -100 -100 -100 -100\n",
      "  -100 -100 -100 -100 -100 -100 -100 -100 -100 -100 -100 -100 -100 -100\n",
      "  -100 -100 -100 -100 -100 -100 -100]\n",
      " [   0  119  107  108  118   35   52   86   48  106  117  100  113  103\n",
      "   105  100  119  107  104  117   35   83   68   86   87   49   76   80\n",
      "    83   72   85   73   48  115  100  120  118  104   35  122  107  100\n",
      "   119   48  118  100  124   48   54   49   86   35   53   49   81   72\n",
      "    74   48   76   80   83   72   85   73   48  101  104   49   90  107\n",
      "   108  119  104   48   52   53    1]\n",
      " [   0  119  107  108  118   35   52   86   48  106  117  100  113  103\n",
      "   105  100  119  107  104  117   35   83   68   86   87   49   76   80\n",
      "    83   72   85   73   48  115  100  120  118  104   35  122  107  100\n",
      "   119   48  118  100  124   48   54   49   86   35   53   49   81   72\n",
      "    74   48   76   80   83   72   85   73   48  101  104   49   90  107\n",
      "   108  119  104   48   52   53    1]\n",
      " [   0  112  100  124  101  104   35  119  114  112  114  117  117  114\n",
      "   122   35   73   88   87   48   85   72   71   88   83   48  119  104\n",
      "   111  111   49  100   49  118  119  114  117  124   48   54   86   35\n",
      "    90  100  124  113  104   35  119  107  100  119    1 -100 -100 -100\n",
      "  -100 -100 -100 -100 -100 -100 -100 -100 -100 -100 -100 -100 -100 -100\n",
      "  -100 -100 -100 -100 -100 -100 -100]\n",
      " [   0  112  100  124  101  104   35  119  114  112  114  117  117  114\n",
      "   122   35   73   88   87   48   85   72   71   88   83   48  119  104\n",
      "   111  111   49  100   49  118  119  114  117  124   48   54   86   35\n",
      "    90  100  124  113  104   35  119  107  100  119    1 -100 -100 -100\n",
      "  -100 -100 -100 -100 -100 -100 -100 -100 -100 -100 -100 -100 -100 -100\n",
      "  -100 -100 -100 -100 -100 -100 -100]\n",
      " [   0  122  100  113  119   49  119  114   48  103  100  113  102  104\n",
      "    48   53   86   49   86   88   69   77   35  122  107  124   49  108\n",
      "   113   49  119  107  104   49  107  104  102  110   36   66   35  108\n",
      "   119   49  108  118   49  119  107  120  118   48   51   86    1 -100\n",
      "  -100 -100 -100 -100 -100 -100 -100 -100 -100 -100 -100 -100 -100 -100\n",
      "  -100 -100 -100 -100 -100 -100 -100]\n",
      " [   0  122  100  113  119   49  119  114   48  103  100  113  102  104\n",
      "    48   53   86   48   86   88   69   77   35  122  107  124   49  108\n",
      "   113   49  119  107  104   49  107  104  102  110   36   66   35  108\n",
      "   119   49  108  118   49  119  107  120  118    1 -100 -100 -100 -100\n",
      "  -100 -100 -100 -100 -100 -100 -100 -100 -100 -100 -100 -100 -100 -100\n",
      "  -100 -100 -100 -100 -100 -100 -100]]\n",
      "{'chrf++': 90.8552, 'gen_len': 53.5}\n"
     ]
    }
   ],
   "source": [
    "import datasets\n",
    "import evaluate\n",
    "import fire\n",
    "import numpy as np\n",
    "import os\n",
    "import pandas as pd\n",
    "import torch\n",
    "import transformers\n",
    "import wandb\n",
    "import random\n",
    "from pretrain_multilingual_model import create_prompt, tokenize, create_trainer\n",
    "\n",
    "pretrained_model = \"google/byt5-base\"\n",
    "random.seed(0)\n",
    "MODEL_INPUT_LENGTH = 1024\n",
    "mode = 'predict'\n",
    "test_split = 'id'\n",
    "model_path = 'lecslab/byt5-translation-all'\n",
    "\n",
    "tokenizer = transformers.ByT5Tokenizer.from_pretrained(\n",
    "    pretrained_model, use_fast=False\n",
    ")\n",
    "dataset = datasets.load_dataset('lecslab/glosslm-split')\n",
    "dataset = dataset.filter(lambda x: x[\"transcription\"] is not None and x[\"glosses\"] is not None)\n",
    "dataset = dataset.map(create_prompt)\n",
    "dataset = dataset.map(\n",
    "    tokenize(tokenizer, max_length=MODEL_INPUT_LENGTH), batched=True\n",
    ")\n",
    "\n",
    "dataset[\"train\"] = dataset[\"train\"].shuffle()\n",
    "\n",
    "print(f\"Loading model from {pretrained_model}\")\n",
    "model: transformers.T5ForConditionalGeneration = transformers.T5ForConditionalGeneration.from_pretrained(pretrained_model if mode == 'train' else model_path)\n",
    "trainer = create_trainer(\n",
    "    model,\n",
    "    dataset=dataset,\n",
    "    tokenizer=tokenizer,\n",
    "    batch_size=2,\n",
    "    lr=5e-5,\n",
    "    max_epochs=10,\n",
    ")\n",
    "\n",
    "if mode == \"train\":\n",
    "    print(\"Training...\")\n",
    "    trainer.train()\n",
    "    if not os.path.exists(model_path):\n",
    "        os.makedirs(model_path)\n",
    "    print(f\"Saving model to {model_path}\")\n",
    "    trainer.save_model(model_path)\n",
    "    print(f\"Model saved at {model_path}\")\n",
    "\n",
    "elif mode == \"predict\":\n",
    "    print(\"Creating predictions...\")\n",
    "    assert test_split in ['id', 'ood']\n",
    "    test_split = \"test_\" + test_split.upper()\n",
    "\n",
    "    preds = trainer.predict(dataset[test_split].select(range(10)))\n",
    "    # preds_df = pd.DataFrame({\n",
    "    #     \"ID\": dataset[test_split][\"ID\"],\n",
    "    #     \"glottocode\": dataset[test_split][\"glottocode\"],\n",
    "    #     \"is_segmented\": dataset[test_split][\"is_segmented\"],\n",
    "    #     \"pred\": preds,\n",
    "    # })\n",
    "    # preds_df.to_csv(f\"{test_split}-preds.csv\", index=False)\n",
    "    preds"
   ]
  },
  {
   "cell_type": "code",
   "execution_count": 2,
   "metadata": {
    "ExecuteTime": {
     "end_time": "2023-12-31T02:28:39.809288Z",
     "start_time": "2023-12-31T02:28:39.803281Z"
    },
    "collapsed": false
   },
   "outputs": [
    {
     "data": {
      "text/plain": [
       "PredictionOutput(predictions=array([[   0,  101,  120,  119,   35,   54,   49,   76,   80,   83,   72,\n",
       "          85,   73,   49,   81,   72,   74,   48,  118,  100,  124,   49,\n",
       "         118,   49,  119,   49,   48,  115,  104,  117,  118,   49,   83,\n",
       "          79,   35,  124,  114,  120,   35,  110,  113,  114,  122,    1,\n",
       "        -100, -100, -100, -100, -100, -100, -100, -100, -100, -100, -100,\n",
       "        -100, -100, -100, -100, -100, -100, -100, -100, -100, -100, -100,\n",
       "        -100, -100, -100, -100, -100, -100, -100, -100, -100, -100, -100],\n",
       "       [   0,  101,  120,  119,   35,   54,   49,   76,   80,   83,   72,\n",
       "          85,   73,   49,   81,   72,   74,   48,  118,  100,  124,   49,\n",
       "         118,   49,  119,   49,   48,  115,  104,  117,  118,   49,   83,\n",
       "          79,   35,  124,  114,  120,   35,  110,  113,  114,  122,    1,\n",
       "        -100, -100, -100, -100, -100, -100, -100, -100, -100, -100, -100,\n",
       "        -100, -100, -100, -100, -100, -100, -100, -100, -100, -100, -100,\n",
       "        -100, -100, -100, -100, -100, -100, -100, -100, -100, -100, -100],\n",
       "       [   0,  119,  107,  108,  118,   35,  122,  107,  104,  113,   49,\n",
       "          83,   68,   86,   87,   48,  118,  115,  104,  100,  110,   48,\n",
       "          54,   83,   79,   35,   76,   70,   49,  102,  114,  117,  117,\n",
       "         117,  104,  102,  119,   48,   54,   83,   79,    1, -100, -100,\n",
       "        -100, -100, -100, -100, -100, -100, -100, -100, -100, -100, -100,\n",
       "        -100, -100, -100, -100, -100, -100, -100, -100, -100, -100, -100,\n",
       "        -100, -100, -100, -100, -100, -100, -100, -100, -100, -100, -100],\n",
       "       [   0,  119,  107,  108,  118,   35,  122,  107,  104,  113,   49,\n",
       "          83,   68,   86,   87,   48,  118,  115,  104,  100,  110,   48,\n",
       "          54,   83,   79,   35,   76,   70,   49,  119,  104,  111,  111,\n",
       "          49,  119,  107,  104,   49,  119,  117,  120,  119,  107,   48,\n",
       "          54,   83,   79,    1, -100, -100, -100, -100, -100, -100, -100,\n",
       "        -100, -100, -100, -100, -100, -100, -100, -100, -100, -100, -100,\n",
       "        -100, -100, -100, -100, -100, -100, -100, -100, -100, -100, -100],\n",
       "       [   0,  119,  107,  108,  118,   35,   52,   86,   48,  106,  117,\n",
       "         100,  113,  103,  105,  100,  119,  107,  104,  117,   35,   83,\n",
       "          68,   86,   87,   49,   76,   80,   83,   72,   85,   73,   48,\n",
       "         115,  100,  120,  118,  104,   35,  122,  107,  100,  119,   48,\n",
       "         118,  100,  124,   48,   54,   49,   86,   35,   53,   49,   81,\n",
       "          72,   74,   48,   76,   80,   83,   72,   85,   73,   48,  101,\n",
       "         104,   49,   90,  107,  108,  119,  104,   48,   52,   53,    1],\n",
       "       [   0,  119,  107,  108,  118,   35,   52,   86,   48,  106,  117,\n",
       "         100,  113,  103,  105,  100,  119,  107,  104,  117,   35,   83,\n",
       "          68,   86,   87,   49,   76,   80,   83,   72,   85,   73,   48,\n",
       "         115,  100,  120,  118,  104,   35,  122,  107,  100,  119,   48,\n",
       "         118,  100,  124,   48,   54,   49,   86,   35,   53,   49,   81,\n",
       "          72,   74,   48,   76,   80,   83,   72,   85,   73,   48,  101,\n",
       "         104,   49,   90,  107,  108,  119,  104,   48,   52,   53,    1],\n",
       "       [   0,  112,  100,  124,  101,  104,   35,  119,  114,  112,  114,\n",
       "         117,  117,  114,  122,   35,   73,   88,   87,   48,   85,   72,\n",
       "          71,   88,   83,   48,  119,  104,  111,  111,   49,  100,   49,\n",
       "         118,  119,  114,  117,  124,   48,   54,   86,   35,   90,  100,\n",
       "         124,  113,  104,   35,  119,  107,  100,  119,    1, -100, -100,\n",
       "        -100, -100, -100, -100, -100, -100, -100, -100, -100, -100, -100,\n",
       "        -100, -100, -100, -100, -100, -100, -100, -100, -100, -100, -100],\n",
       "       [   0,  112,  100,  124,  101,  104,   35,  119,  114,  112,  114,\n",
       "         117,  117,  114,  122,   35,   73,   88,   87,   48,   85,   72,\n",
       "          71,   88,   83,   48,  119,  104,  111,  111,   49,  100,   49,\n",
       "         118,  119,  114,  117,  124,   48,   54,   86,   35,   90,  100,\n",
       "         124,  113,  104,   35,  119,  107,  100,  119,    1, -100, -100,\n",
       "        -100, -100, -100, -100, -100, -100, -100, -100, -100, -100, -100,\n",
       "        -100, -100, -100, -100, -100, -100, -100, -100, -100, -100, -100],\n",
       "       [   0,  122,  100,  113,  119,   49,  119,  114,   48,  103,  100,\n",
       "         113,  102,  104,   48,   53,   86,   49,   86,   88,   69,   77,\n",
       "          35,  122,  107,  124,   49,  108,  113,   49,  119,  107,  104,\n",
       "          49,  107,  104,  102,  110,   36,   66,   35,  108,  119,   49,\n",
       "         108,  118,   49,  119,  107,  120,  118,   48,   51,   86,    1,\n",
       "        -100, -100, -100, -100, -100, -100, -100, -100, -100, -100, -100,\n",
       "        -100, -100, -100, -100, -100, -100, -100, -100, -100, -100, -100],\n",
       "       [   0,  122,  100,  113,  119,   49,  119,  114,   48,  103,  100,\n",
       "         113,  102,  104,   48,   53,   86,   48,   86,   88,   69,   77,\n",
       "          35,  122,  107,  124,   49,  108,  113,   49,  119,  107,  104,\n",
       "          49,  107,  104,  102,  110,   36,   66,   35,  108,  119,   49,\n",
       "         108,  118,   49,  119,  107,  120,  118,    1, -100, -100, -100,\n",
       "        -100, -100, -100, -100, -100, -100, -100, -100, -100, -100, -100,\n",
       "        -100, -100, -100, -100, -100, -100, -100, -100, -100, -100, -100]]), label_ids=array([[ 101,  120,  119,   35,   54,   49,   76,   80,   83,   72,   85,\n",
       "          73,   49,   81,   72,   74,   48,  118,  100,  124,   49,  118,\n",
       "          49,  119,   49,   48,  115,  104,  117,  118,   49,   83,   79,\n",
       "          35,  124,  114,  120,   35,  110,  113,  114,  122,    1, -100,\n",
       "        -100, -100, -100, -100, -100, -100, -100, -100, -100, -100, -100,\n",
       "        -100, -100, -100, -100, -100, -100, -100, -100, -100, -100, -100,\n",
       "        -100, -100, -100, -100, -100, -100, -100, -100, -100, -100],\n",
       "       [ 101,  120,  119,   35,   54,   49,   76,   80,   83,   72,   85,\n",
       "          73,   49,   81,   72,   74,   48,  118,  100,  124,   49,  118,\n",
       "          49,  119,   49,   48,  115,  104,  117,  118,   49,   83,   79,\n",
       "          35,  124,  114,  120,   35,  110,  113,  114,  122,    1, -100,\n",
       "        -100, -100, -100, -100, -100, -100, -100, -100, -100, -100, -100,\n",
       "        -100, -100, -100, -100, -100, -100, -100, -100, -100, -100, -100,\n",
       "        -100, -100, -100, -100, -100, -100, -100, -100, -100, -100],\n",
       "       [ 119,  107,  108,  118,   35,  122,  107,  104,  113,   49,   83,\n",
       "          68,   86,   87,   48,  118,  115,  104,  100,  110,   48,   54,\n",
       "          83,   79,   35,   76,   70,   49,  119,  104,  111,  111,   49,\n",
       "         119,  107,  104,   49,  119,  117,  120,  119,  107,   48,   54,\n",
       "          83,   79,    1, -100, -100, -100, -100, -100, -100, -100, -100,\n",
       "        -100, -100, -100, -100, -100, -100, -100, -100, -100, -100, -100,\n",
       "        -100, -100, -100, -100, -100, -100, -100, -100, -100, -100],\n",
       "       [ 119,  107,  108,  118,   35,  122,  107,  104,  113,   49,   83,\n",
       "          68,   86,   87,   48,  118,  115,  104,  100,  110,   48,   54,\n",
       "          83,   79,   35,   76,   70,   49,  119,  104,  111,  111,   49,\n",
       "         119,  107,  104,   49,  119,  117,  120,  119,  107,   48,   54,\n",
       "          83,   79,    1, -100, -100, -100, -100, -100, -100, -100, -100,\n",
       "        -100, -100, -100, -100, -100, -100, -100, -100, -100, -100, -100,\n",
       "        -100, -100, -100, -100, -100, -100, -100, -100, -100, -100],\n",
       "       [ 119,  107,  108,  118,   35,  112,  124,   49,  106,  117,  100,\n",
       "         113,  103,  105,  100,  119,  107,  104,  117,   35,   83,   68,\n",
       "          86,   87,   49,   76,   80,   83,   72,   85,   73,   48,  115,\n",
       "         100,  120,  118,  104,   35,  122,  107,  100,  119,   48,  118,\n",
       "         100,  124,   48,   54,   49,   86,   35,   53,   49,   81,   72,\n",
       "          74,   48,   76,   80,   83,   72,   85,   73,   48,  101,  104,\n",
       "          49,   90,  107,  108,  119,  104,   48,   52,   53,    1],\n",
       "       [ 119,  107,  108,  118,   35,  112,  124,   49,  106,  117,  100,\n",
       "         113,  103,  105,  100,  119,  107,  104,  117,   35,   83,   68,\n",
       "          86,   87,   49,   76,   80,   83,   72,   85,   73,   48,  115,\n",
       "         100,  120,  118,  104,   35,  122,  107,  100,  119,   48,  118,\n",
       "         100,  124,   48,   54,   49,   86,   35,   53,   49,   81,   72,\n",
       "          74,   48,   76,   80,   83,   72,   85,   73,   48,  101,  104,\n",
       "          49,   90,  107,  108,  119,  104,   48,   52,   53,    1],\n",
       "       [ 112,  100,  124,  101,  104,   35,  119,  114,  112,  114,  117,\n",
       "         117,  114,  122,   35,   73,   88,   87,   48,   85,   72,   71,\n",
       "          88,   83,   48,  119,  104,  111,  111,   49,  100,   49,  118,\n",
       "         119,  114,  117,  124,   48,   54,   86,   35,   90,  100,  124,\n",
       "         113,  104,   35,  119,  107,  100,  119,    1, -100, -100, -100,\n",
       "        -100, -100, -100, -100, -100, -100, -100, -100, -100, -100, -100,\n",
       "        -100, -100, -100, -100, -100, -100, -100, -100, -100, -100],\n",
       "       [ 112,  100,  124,  101,  104,   35,  119,  114,  112,  114,  117,\n",
       "         117,  114,  122,   35,   73,   88,   87,   48,   85,   72,   71,\n",
       "          88,   83,   48,  119,  104,  111,  111,   49,  100,   49,  118,\n",
       "         119,  114,  117,  124,   48,   54,   86,   35,   90,  100,  124,\n",
       "         113,  104,   35,  119,  107,  100,  119,    1, -100, -100, -100,\n",
       "        -100, -100, -100, -100, -100, -100, -100, -100, -100, -100, -100,\n",
       "        -100, -100, -100, -100, -100, -100, -100, -100, -100, -100],\n",
       "       [ 122,  100,  113,  119,   49,  119,  114,   48,  103,  100,  113,\n",
       "         102,  104,   48,   53,   86,   49,   86,   88,   69,   77,   35,\n",
       "         122,  107,  124,   49,  108,  113,   49,  119,  107,  104,   49,\n",
       "         107,  104,  102,  110,   36,   66,   35,  108,  119,   49,  108,\n",
       "         118,   49,  119,  107,  120,  118,   48,   51,   86,    1, -100,\n",
       "        -100, -100, -100, -100, -100, -100, -100, -100, -100, -100, -100,\n",
       "        -100, -100, -100, -100, -100, -100, -100, -100, -100, -100],\n",
       "       [ 122,  100,  113,  119,   49,  119,  114,   48,  103,  100,  113,\n",
       "         102,  104,   48,   53,   86,   49,   86,   88,   69,   77,   35,\n",
       "         122,  107,  124,   49,  108,  113,   49,  119,  107,  104,   49,\n",
       "         107,  104,  102,  110,   36,   66,   35,  108,  119,   49,  108,\n",
       "         118,   49,  119,  107,  120,  118,   48,   51,   86,    1, -100,\n",
       "        -100, -100, -100, -100, -100, -100, -100, -100, -100, -100, -100,\n",
       "        -100, -100, -100, -100, -100, -100, -100, -100, -100, -100]]), metrics={'test_loss': 0.02452772483229637, 'test_chrf++': 90.8552, 'test_gen_len': 53.5, 'test_runtime': 37.7555, 'test_samples_per_second': 0.265, 'test_steps_per_second': 0.265})"
      ]
     },
     "execution_count": 2,
     "metadata": {},
     "output_type": "execute_result"
    }
   ],
   "source": [
    "preds"
   ]
  },
  {
   "cell_type": "code",
   "execution_count": 6,
   "metadata": {
    "ExecuteTime": {
     "end_time": "2023-12-28T20:46:03.602173Z",
     "start_time": "2023-12-28T20:46:03.599421Z"
    },
    "collapsed": false
   },
   "outputs": [
    {
     "data": {
      "text/plain": [
       "['but 3.IMPERF.NEG-say.s.t.-pers.PL you know',\n",
       " 'but 3.IMPERF.NEG-say.s.t.-pers.PL you know',\n",
       " 'this when.PAST-speak-3PL IC.tell.the.truth-3PL',\n",
       " 'this when.PAST-speak-3PL IC.tell.the.truth-3PL']"
      ]
     },
     "execution_count": 6,
     "metadata": {},
     "output_type": "execute_result"
    }
   ],
   "source": [
    "labels = preds.label_ids\n",
    "labels = np.where(labels != -100, labels, tokenizer.pad_token_id)\n",
    "\n",
    "tokenizer.batch_decode(labels, skip_special_tokens=True)"
   ]
  },
  {
   "cell_type": "code",
   "execution_count": 10,
   "metadata": {
    "ExecuteTime": {
     "end_time": "2023-12-28T20:48:04.779541Z",
     "start_time": "2023-12-28T20:48:04.774021Z"
    },
    "collapsed": false
   },
   "outputs": [
    {
     "data": {
      "text/plain": [
       "['but 3.IMPERF.NEG-say.s.t.-pers.PL you know',\n",
       " 'but 3.IMPERF.NEG-say.s.t.-pers.PL you know',\n",
       " 'this when.PAST-speak-3PL IC.tell.the.truth-3PL',\n",
       " 'this when.PAST-speak-3PL IC.tell.the.truth-3PL']"
      ]
     },
     "execution_count": 10,
     "metadata": {},
     "output_type": "execute_result"
    }
   ],
   "source": [
    "dataset[test_split].select(range(4))['glosses']"
   ]
  },
  {
   "cell_type": "code",
   "execution_count": 9,
   "metadata": {
    "ExecuteTime": {
     "end_time": "2023-12-28T20:46:50.805402Z",
     "start_time": "2023-12-28T20:46:50.800680Z"
    },
    "collapsed": false
   },
   "outputs": [
    {
     "data": {
      "text/plain": [
       "Seq2SeqTrainingArguments(output_dir='training-checkpoints', overwrite_output_dir=False, do_train=False, do_eval=True, do_predict=False, evaluation_strategy=<IntervalStrategy.EPOCH: 'epoch'>, prediction_loss_only=False, per_device_train_batch_size=2, per_device_eval_batch_size=1, per_gpu_train_batch_size=None, per_gpu_eval_batch_size=None, gradient_accumulation_steps=64, eval_accumulation_steps=10, eval_delay=0, learning_rate=5e-05, weight_decay=0.01, adam_beta1=0.9, adam_beta2=0.999, adam_epsilon=1e-08, max_grad_norm=1.0, num_train_epochs=10, max_steps=-1, lr_scheduler_type=<SchedulerType.LINEAR: 'linear'>, warmup_ratio=0.0, warmup_steps=0, log_level='passive', log_level_replica='warning', log_on_each_node=True, logging_dir='training-checkpoints/runs/Dec28_14-44-22_Michaels-Macboook-Pro.local', logging_strategy=<IntervalStrategy.STEPS: 'steps'>, logging_first_step=False, logging_steps=100, logging_nan_inf_filter=True, save_strategy=<IntervalStrategy.EPOCH: 'epoch'>, save_steps=500, save_total_limit=3, save_safetensors=True, save_on_each_node=False, no_cuda=False, use_cpu=False, use_mps_device=False, seed=42, data_seed=None, jit_mode_eval=False, use_ipex=False, bf16=False, fp16=False, fp16_opt_level='O1', half_precision_backend='auto', bf16_full_eval=False, fp16_full_eval=False, tf32=None, local_rank=0, ddp_backend=None, tpu_num_cores=None, tpu_metrics_debug=False, debug=[], dataloader_drop_last=False, eval_steps=None, dataloader_num_workers=0, past_index=-1, run_name='training-checkpoints', disable_tqdm=False, remove_unused_columns=True, label_names=None, load_best_model_at_end=False, metric_for_best_model=None, greater_is_better=None, ignore_data_skip=False, fsdp=[], fsdp_min_num_params=0, fsdp_config={'min_num_params': 0, 'xla': False, 'xla_fsdp_grad_ckpt': False}, fsdp_transformer_layer_cls_to_wrap=None, deepspeed=None, label_smoothing_factor=0.0, optim=<OptimizerNames.ADAMW_TORCH: 'adamw_torch'>, optim_args=None, adafactor=False, group_by_length=False, length_column_name='length', report_to=['wandb'], ddp_find_unused_parameters=None, ddp_bucket_cap_mb=None, ddp_broadcast_buffers=None, dataloader_pin_memory=True, skip_memory_metrics=True, use_legacy_prediction_loop=False, push_to_hub=False, resume_from_checkpoint=None, hub_model_id=None, hub_strategy=<HubStrategy.EVERY_SAVE: 'every_save'>, hub_token=None, hub_private_repo=False, hub_always_push=False, gradient_checkpointing=False, gradient_checkpointing_kwargs=None, include_inputs_for_metrics=False, fp16_backend='auto', push_to_hub_model_id=None, push_to_hub_organization=None, push_to_hub_token=None, mp_parameters='', auto_find_batch_size=False, full_determinism=False, torchdynamo=None, ray_scope='last', ddp_timeout=1800, torch_compile=False, torch_compile_backend=None, torch_compile_mode=None, dispatch_batches=None, split_batches=False, include_tokens_per_second=False, neftune_noise_alpha=None, sortish_sampler=False, predict_with_generate=True, generation_max_length=1024, generation_num_beams=3, generation_config=None)"
      ]
     },
     "execution_count": 9,
     "metadata": {},
     "output_type": "execute_result"
    }
   ],
   "source": [
    "trainer.args"
   ]
  },
  {
   "cell_type": "code",
   "execution_count": 19,
   "metadata": {
    "ExecuteTime": {
     "end_time": "2023-12-28T20:36:52.598217Z",
     "start_time": "2023-12-28T20:36:52.593331Z"
    },
    "collapsed": false
   },
   "outputs": [],
   "source": [
    "model.generation_config.max_new_tokens = 1024"
   ]
  },
  {
   "cell_type": "code",
   "execution_count": 9,
   "metadata": {
    "ExecuteTime": {
     "end_time": "2024-01-21T21:32:06.703407Z",
     "start_time": "2024-01-21T21:32:05.048024Z"
    },
    "collapsed": false
   },
   "outputs": [],
   "source": [
    "from datasets import load_dataset\n",
    "\n",
    "dataset = load_dataset(\"lecslab/glosslm-split\")['test_ID'].to_pandas()"
   ]
  },
  {
   "cell_type": "code",
   "execution_count": 10,
   "metadata": {
    "ExecuteTime": {
     "end_time": "2024-01-21T21:32:06.711664Z",
     "start_time": "2024-01-21T21:32:06.704824Z"
    },
    "collapsed": false
   },
   "outputs": [
    {
     "data": {
      "text/html": [
       "<div>\n",
       "<style scoped>\n",
       "    .dataframe tbody tr th:only-of-type {\n",
       "        vertical-align: middle;\n",
       "    }\n",
       "\n",
       "    .dataframe tbody tr th {\n",
       "        vertical-align: top;\n",
       "    }\n",
       "\n",
       "    .dataframe thead th {\n",
       "        text-align: right;\n",
       "    }\n",
       "</style>\n",
       "<table border=\"1\" class=\"dataframe\">\n",
       "  <thead>\n",
       "    <tr style=\"text-align: right;\">\n",
       "      <th></th>\n",
       "      <th>ID</th>\n",
       "      <th>glottocode</th>\n",
       "      <th>transcription</th>\n",
       "      <th>glosses</th>\n",
       "      <th>translation</th>\n",
       "      <th>metalang_glottocode</th>\n",
       "      <th>is_segmented</th>\n",
       "      <th>source</th>\n",
       "      <th>language</th>\n",
       "      <th>metalang</th>\n",
       "    </tr>\n",
       "  </thead>\n",
       "  <tbody>\n",
       "    <tr>\n",
       "      <th>0</th>\n",
       "      <td>st_test_arap1274_0</td>\n",
       "      <td>arap1274</td>\n",
       "      <td>'oh hiihoow-kohtobei-no' you know</td>\n",
       "      <td>but 3.IMPERF.NEG-say.s.t.-pers.PL you know</td>\n",
       "      <td>But they don't say anything , you know ?</td>\n",
       "      <td>stan1293</td>\n",
       "      <td>yes</td>\n",
       "      <td>sigmorphon_st</td>\n",
       "      <td>Arapaho</td>\n",
       "      <td>English</td>\n",
       "    </tr>\n",
       "    <tr>\n",
       "      <th>1</th>\n",
       "      <td>st_test_arap1274_0</td>\n",
       "      <td>arap1274</td>\n",
       "      <td>'oh hiihoowkohtobeino' you know</td>\n",
       "      <td>but 3.IMPERF.NEG-say.s.t.-pers.PL you know</td>\n",
       "      <td>But they don't say anything , you know ?</td>\n",
       "      <td>stan1293</td>\n",
       "      <td>no</td>\n",
       "      <td>sigmorphon_st</td>\n",
       "      <td>Arapaho</td>\n",
       "      <td>English</td>\n",
       "    </tr>\n",
       "    <tr>\n",
       "      <th>2</th>\n",
       "      <td>st_test_arap1274_1</td>\n",
       "      <td>arap1274</td>\n",
       "      <td>nuhu' tih-'eeneti-3i' heneenei3oobei-3i'</td>\n",
       "      <td>this when.PAST-speak-3PL IC.tell.the.truth-3PL</td>\n",
       "      <td>When they speak , they tell the truth .</td>\n",
       "      <td>stan1293</td>\n",
       "      <td>yes</td>\n",
       "      <td>sigmorphon_st</td>\n",
       "      <td>Arapaho</td>\n",
       "      <td>English</td>\n",
       "    </tr>\n",
       "    <tr>\n",
       "      <th>3</th>\n",
       "      <td>st_test_arap1274_1</td>\n",
       "      <td>arap1274</td>\n",
       "      <td>Nuhu' tih'eeneti3i' heneenei3oobei'i3i'</td>\n",
       "      <td>this when.PAST-speak-3PL IC.tell.the.truth-3PL</td>\n",
       "      <td>When they speak , they tell the truth .</td>\n",
       "      <td>stan1293</td>\n",
       "      <td>no</td>\n",
       "      <td>sigmorphon_st</td>\n",
       "      <td>Arapaho</td>\n",
       "      <td>English</td>\n",
       "    </tr>\n",
       "    <tr>\n",
       "      <th>4</th>\n",
       "      <td>st_test_arap1274_2</td>\n",
       "      <td>arap1274</td>\n",
       "      <td>nehe' nebesiibehe' nih'ii-P heesi-nihii-t heih...</td>\n",
       "      <td>this my.grandfather PAST.IMPERF-pause what-say...</td>\n",
       "      <td>My grandfather , what he said , we aren't Whit...</td>\n",
       "      <td>stan1293</td>\n",
       "      <td>yes</td>\n",
       "      <td>sigmorphon_st</td>\n",
       "      <td>Arapaho</td>\n",
       "      <td>English</td>\n",
       "    </tr>\n",
       "    <tr>\n",
       "      <th>...</th>\n",
       "      <td>...</td>\n",
       "      <td>...</td>\n",
       "      <td>...</td>\n",
       "      <td>...</td>\n",
       "      <td>...</td>\n",
       "      <td>...</td>\n",
       "      <td>...</td>\n",
       "      <td>...</td>\n",
       "      <td>...</td>\n",
       "      <td>...</td>\n",
       "    </tr>\n",
       "    <tr>\n",
       "      <th>9779</th>\n",
       "      <td>st_test_arap1274_4889</td>\n",
       "      <td>arap1274</td>\n",
       "      <td>Ne'nihP ne'niinihiinoo</td>\n",
       "      <td>then-PAST-pause then-REDUP-say-1S</td>\n",
       "      <td>Then , then I said those things .</td>\n",
       "      <td>stan1293</td>\n",
       "      <td>no</td>\n",
       "      <td>sigmorphon_st</td>\n",
       "      <td>Arapaho</td>\n",
       "      <td>English</td>\n",
       "    </tr>\n",
       "    <tr>\n",
       "      <th>9780</th>\n",
       "      <td>st_test_arap1274_4890</td>\n",
       "      <td>arap1274</td>\n",
       "      <td>nii-ciinen-ou'u beneesou-'u nonoocou-'u kookoy...</td>\n",
       "      <td>IMPERF-put-3PL IC.big-0.PL IC.white-0.PL squar...</td>\n",
       "      <td>Bricklayers lay large white blocks .</td>\n",
       "      <td>stan1293</td>\n",
       "      <td>yes</td>\n",
       "      <td>sigmorphon_st</td>\n",
       "      <td>Arapaho</td>\n",
       "      <td>English</td>\n",
       "    </tr>\n",
       "    <tr>\n",
       "      <th>9781</th>\n",
       "      <td>st_test_arap1274_4890</td>\n",
       "      <td>arap1274</td>\n",
       "      <td>Niiciinenou'u beneesou'u nonoocou'u kookoyou'u</td>\n",
       "      <td>IMPERF-put-3PL IC.big-0.PL IC.white-0.PL squar...</td>\n",
       "      <td>Bricklayers lay large white blocks .</td>\n",
       "      <td>stan1293</td>\n",
       "      <td>no</td>\n",
       "      <td>sigmorphon_st</td>\n",
       "      <td>Arapaho</td>\n",
       "      <td>English</td>\n",
       "    </tr>\n",
       "    <tr>\n",
       "      <th>9782</th>\n",
       "      <td>st_test_arap1274_4891</td>\n",
       "      <td>arap1274</td>\n",
       "      <td>ne'-P cee3ei'oo-no' kee'in</td>\n",
       "      <td>then-pause IC.set.off-12 you.know?</td>\n",
       "      <td>They say , \" We're leaving ,\" you know ?</td>\n",
       "      <td>stan1293</td>\n",
       "      <td>yes</td>\n",
       "      <td>sigmorphon_st</td>\n",
       "      <td>Arapaho</td>\n",
       "      <td>English</td>\n",
       "    </tr>\n",
       "    <tr>\n",
       "      <th>9783</th>\n",
       "      <td>st_test_arap1274_4891</td>\n",
       "      <td>arap1274</td>\n",
       "      <td>ne'P cee3ei'oono' kee'in</td>\n",
       "      <td>then-pause IC.set.off-12 you.know?</td>\n",
       "      <td>They say , \" We're leaving ,\" you know ?</td>\n",
       "      <td>stan1293</td>\n",
       "      <td>no</td>\n",
       "      <td>sigmorphon_st</td>\n",
       "      <td>Arapaho</td>\n",
       "      <td>English</td>\n",
       "    </tr>\n",
       "  </tbody>\n",
       "</table>\n",
       "<p>9784 rows × 10 columns</p>\n",
       "</div>"
      ],
      "text/plain": [
       "                         ID glottocode  \\\n",
       "0        st_test_arap1274_0   arap1274   \n",
       "1        st_test_arap1274_0   arap1274   \n",
       "2        st_test_arap1274_1   arap1274   \n",
       "3        st_test_arap1274_1   arap1274   \n",
       "4        st_test_arap1274_2   arap1274   \n",
       "...                     ...        ...   \n",
       "9779  st_test_arap1274_4889   arap1274   \n",
       "9780  st_test_arap1274_4890   arap1274   \n",
       "9781  st_test_arap1274_4890   arap1274   \n",
       "9782  st_test_arap1274_4891   arap1274   \n",
       "9783  st_test_arap1274_4891   arap1274   \n",
       "\n",
       "                                          transcription  \\\n",
       "0                     'oh hiihoow-kohtobei-no' you know   \n",
       "1                       'oh hiihoowkohtobeino' you know   \n",
       "2              nuhu' tih-'eeneti-3i' heneenei3oobei-3i'   \n",
       "3               Nuhu' tih'eeneti3i' heneenei3oobei'i3i'   \n",
       "4     nehe' nebesiibehe' nih'ii-P heesi-nihii-t heih...   \n",
       "...                                                 ...   \n",
       "9779                             Ne'nihP ne'niinihiinoo   \n",
       "9780  nii-ciinen-ou'u beneesou-'u nonoocou-'u kookoy...   \n",
       "9781     Niiciinenou'u beneesou'u nonoocou'u kookoyou'u   \n",
       "9782                         ne'-P cee3ei'oo-no' kee'in   \n",
       "9783                           ne'P cee3ei'oono' kee'in   \n",
       "\n",
       "                                                glosses  \\\n",
       "0            but 3.IMPERF.NEG-say.s.t.-pers.PL you know   \n",
       "1            but 3.IMPERF.NEG-say.s.t.-pers.PL you know   \n",
       "2        this when.PAST-speak-3PL IC.tell.the.truth-3PL   \n",
       "3        this when.PAST-speak-3PL IC.tell.the.truth-3PL   \n",
       "4     this my.grandfather PAST.IMPERF-pause what-say...   \n",
       "...                                                 ...   \n",
       "9779                  then-PAST-pause then-REDUP-say-1S   \n",
       "9780  IMPERF-put-3PL IC.big-0.PL IC.white-0.PL squar...   \n",
       "9781  IMPERF-put-3PL IC.big-0.PL IC.white-0.PL squar...   \n",
       "9782                 then-pause IC.set.off-12 you.know?   \n",
       "9783                 then-pause IC.set.off-12 you.know?   \n",
       "\n",
       "                                            translation metalang_glottocode  \\\n",
       "0              But they don't say anything , you know ?            stan1293   \n",
       "1              But they don't say anything , you know ?            stan1293   \n",
       "2               When they speak , they tell the truth .            stan1293   \n",
       "3               When they speak , they tell the truth .            stan1293   \n",
       "4     My grandfather , what he said , we aren't Whit...            stan1293   \n",
       "...                                                 ...                 ...   \n",
       "9779                  Then , then I said those things .            stan1293   \n",
       "9780               Bricklayers lay large white blocks .            stan1293   \n",
       "9781               Bricklayers lay large white blocks .            stan1293   \n",
       "9782           They say , \" We're leaving ,\" you know ?            stan1293   \n",
       "9783           They say , \" We're leaving ,\" you know ?            stan1293   \n",
       "\n",
       "     is_segmented         source language metalang  \n",
       "0             yes  sigmorphon_st  Arapaho  English  \n",
       "1              no  sigmorphon_st  Arapaho  English  \n",
       "2             yes  sigmorphon_st  Arapaho  English  \n",
       "3              no  sigmorphon_st  Arapaho  English  \n",
       "4             yes  sigmorphon_st  Arapaho  English  \n",
       "...           ...            ...      ...      ...  \n",
       "9779           no  sigmorphon_st  Arapaho  English  \n",
       "9780          yes  sigmorphon_st  Arapaho  English  \n",
       "9781           no  sigmorphon_st  Arapaho  English  \n",
       "9782          yes  sigmorphon_st  Arapaho  English  \n",
       "9783           no  sigmorphon_st  Arapaho  English  \n",
       "\n",
       "[9784 rows x 10 columns]"
      ]
     },
     "execution_count": 10,
     "metadata": {},
     "output_type": "execute_result"
    }
   ],
   "source": [
    "dataset[dataset['glottocode'] == 'arap1274']"
   ]
  },
  {
   "cell_type": "code",
   "execution_count": 33,
   "metadata": {
    "ExecuteTime": {
     "end_time": "2024-01-12T15:22:09.252416Z",
     "start_time": "2024-01-12T15:22:09.242845Z"
    },
    "collapsed": false
   },
   "outputs": [
    {
     "data": {
      "text/plain": [
       "0      and DEM.DIST-guy-EP-ABS.SG picked.up necklace-...\n",
       "2      and this-NOM.PL real-NOM.PL stories-NOM.PL be....\n",
       "4                              run.PRET there-ABL far.. \n",
       "6      let’s.go-1PL.INCL seaside-GEN-to say-AOR.3SG-3...\n",
       "8                 1SG.ERG on vacation.GEN send-PASS.PST \n",
       "                             ...                        \n",
       "888                         2SG PROG-die-PROG 2SG-go see\n",
       "890    those COMP CL.2-children CL.2-those travel.IPF...\n",
       "892                                             AUG-hand\n",
       "894                     so 2-die-PL NEG 14-fall-IPFV PRT\n",
       "896    3.SG 2-be.PRS two-two water NEG-3-sleep-PROG P...\n",
       "Name: pred, Length: 449, dtype: object"
      ]
     },
     "execution_count": 33,
     "metadata": {},
     "output_type": "execute_result"
    }
   ],
   "source": []
  },
  {
   "cell_type": "code",
   "execution_count": 54,
   "metadata": {
    "ExecuteTime": {
     "end_time": "2024-01-12T15:55:57.629597Z",
     "start_time": "2024-01-12T15:55:57.154804Z"
    },
    "collapsed": false
   },
   "outputs": [
    {
     "name": "stdout",
     "output_type": "stream",
     "text": [
      "1      this boy-DIR-GEN-ERG hand threw-AOR one pair t...\n",
      "3                  himself-FOC be-PERF-PTP story-PL was.\n",
      "5                           far apperance-AOR 1pl.abs...\n",
      "7        come go-GEN sea-OBL-GEN bank-ERG-DAT » say-ENT.\n",
      "9                    then vacation give-AOR 1sg.ERG-DAT.\n",
      "                             ...                        \n",
      "889                              2.PRON smoke 1.PRON say\n",
      "891    like COMP 2.people like 3.SG-buy-PAST house to to\n",
      "893                                             live-NEG\n",
      "895                                so harpy NEG like PRT\n",
      "897    3.SG 2-be.two 2-be.on 1PL-be 1.SG.SBJ-PRS-hit-...\n",
      "Name: pred, Length: 449, dtype: object\n",
      "449\n"
     ]
    },
    {
     "data": {
      "application/vnd.jupyter.widget-view+json": {
       "model_id": "f1b0ca12bd6b4e0c9bd1e93a92b55047",
       "version_major": 2,
       "version_minor": 0
      },
      "text/plain": [
       "Filter:   0%|          | 0/449 [00:00<?, ? examples/s]"
      ]
     },
     "metadata": {},
     "output_type": "display_data"
    },
    {
     "data": {
      "text/plain": [
       "{'all': {'word_level': {'average_accuracy': 0.12521672584706878,\n",
       "   'accuracy': 0.20238489566081483},\n",
       "  'morpheme_level': {'average_accuracy': 0.10907540355175534,\n",
       "   'accuracy': 0.15565163681284744},\n",
       "  'classes': {'stem': {'prec': 0.19887051230334812,\n",
       "    'rec': 0.1833395314243213,\n",
       "    'f1': 0.1907894736842105},\n",
       "   'gram': {'prec': 0.18639262934089298,\n",
       "    'rec': 0.12130996309963099,\n",
       "    'f1': 0.146968426934898}},\n",
       "  'bleu': 0.1519495897134019},\n",
       " 'lezg1247': {'word_level': {'average_accuracy': 0.5008002114010598,\n",
       "   'accuracy': 0.5485327313769752},\n",
       "  'morpheme_level': {'average_accuracy': 0.508352420625257,\n",
       "   'accuracy': 0.5080174927113703},\n",
       "  'classes': {'stem': {'prec': 0.5585241730279898,\n",
       "    'rec': 0.49943117178612056,\n",
       "    'f1': 0.5273273273273273},\n",
       "   'gram': {'prec': 0.5, 'rec': 0.5233265720081136, 'f1': 0.5113974231912785}},\n",
       "  'bleu': 0.4602559480357618}}"
      ]
     },
     "execution_count": 54,
     "metadata": {},
     "output_type": "execute_result"
    }
   ],
   "source": [
    "import pandas as pd\n",
    "all_eval = {}\n",
    "pred_df = pd.read_csv('../preds/byt5-translation-all-beams3-ft-lez/lezg1247-test_OOD-preds.csv')\n",
    "pred_df = pred_df[(pred_df[\"is_segmented\"] != \"yes\")]\n",
    "pred_df['pred'] = pred_df['pred'].str.replace(r'([a-zA-Z])([,.!?;:]) ', r'\\1 \\2 ', regex=True)\n",
    "\n",
    "\n",
    "preds = pred_df[\"pred\"]\n",
    "print(preds)\n",
    "\n",
    "from eval import eval_accuracy, eval_morpheme_glosses\n",
    "import re\n",
    "import datasets\n",
    "\n",
    "def _eval(preds, gold):\n",
    "    pred_words = [str(pred).split() for pred in preds]\n",
    "\n",
    "    gold_words = [gloss.split() for gloss in gold]\n",
    "    word_eval = eval_accuracy(pred_words, gold_words)\n",
    "\n",
    "    pred_morphemes = [re.split(r\"\\s|-\", str(pred)) for pred in preds]\n",
    "    gold_morphemes = [re.split(r\"\\s|-\", gloss) for gloss in gold]\n",
    "\n",
    "    eval_dict = {\n",
    "        \"word_level\": word_eval,\n",
    "        **eval_morpheme_glosses(\n",
    "            pred_morphemes=pred_morphemes, gold_morphemes=gold_morphemes\n",
    "        ),\n",
    "    }\n",
    "    return eval_dict\n",
    "\n",
    "dataset = datasets.load_dataset('lecslab/glosslm-split', split=\"test_OOD\")\n",
    "dataset = dataset.filter(lambda x: x[\"is_segmented\"] != \"yes\")\n",
    "assert pred_df[\"ID\"].tolist() == dataset[\"ID\"]\n",
    "gold = dataset[\"glosses\"]\n",
    "\n",
    "print(len(gold))\n",
    "\n",
    "all_eval[\"all\"] = _eval(preds, gold)\n",
    "\n",
    "for lang in ['lezg1247']:\n",
    "    lang_dataset = dataset.filter(lambda x: x[\"glottocode\"] == lang)\n",
    "    lang_preds = pred_df[pred_df[\"glottocode\"] == lang]\n",
    "    assert lang_preds[\"ID\"].tolist() == lang_dataset[\"ID\"]\n",
    "    lang_preds = lang_preds[\"pred\"]\n",
    "    lang_gold = lang_dataset[\"glosses\"]\n",
    "    all_eval[lang] = _eval(lang_preds, lang_gold)\n",
    "\n",
    "all_eval"
   ]
  },
  {
   "cell_type": "code",
   "execution_count": 48,
   "metadata": {
    "ExecuteTime": {
     "end_time": "2024-01-12T15:31:34.772923Z",
     "start_time": "2024-01-12T15:31:34.765471Z"
    },
    "collapsed": false
   },
   "outputs": [
    {
     "data": {
      "text/plain": [
       "174    but priest Lesile ᴄᴏᴍ.ᴘʟ child those four NEG-...\n",
       "176                   43. group-3MINII PCLF.RSBL Mr Lore\n",
       "178    SUBR hear-PDIR.YON father-1MINII NMLZ1-speak-N...\n",
       "180    and 3AUG-be-GDIR.UP-PDIR.YON-3AUGIS place.DEM2...\n",
       "182    SUBR look-go-TR-3MINIA room DEM2.DIST and see-...\n",
       "                             ...                        \n",
       "362    because MID-work-APPL-1AUGII house SUBR-be.big...\n",
       "364    start-again-1AUGI Noipx.vil and sleep-1AUGI Ne...\n",
       "366    and mista Sadrak Sunday SUBR be SUBR-be.big GE...\n",
       "368    but NEG-know-1MINI-NEG SUBR 3AUG-return-again-...\n",
       "370    travel-GDIR.UP-1MINI place.DEM2.DIST RL-fork-A...\n",
       "Name: pred, Length: 99, dtype: object"
      ]
     },
     "execution_count": 48,
     "metadata": {},
     "output_type": "execute_result"
    }
   ],
   "source": [
    "lang_preds"
   ]
  },
  {
   "cell_type": "code",
   "execution_count": 49,
   "metadata": {
    "ExecuteTime": {
     "end_time": "2024-01-12T15:31:38.442409Z",
     "start_time": "2024-01-12T15:31:38.438026Z"
    },
    "collapsed": false
   },
   "outputs": [
    {
     "data": {
      "text/plain": [
       "['but priest Lesile ᴄᴏᴍ.ᴘʟ child those four NEG-PAS-be-COS-NEG .',\n",
       " '43 . group-3MINII PCLF.RSBL Mr Lore',\n",
       " 'SUBR hear-PDIR.YON father-1MINII NMLZ1-speak-NMLZ.POSS-PDIR.YON monk John , PFV RL-MID-say-COS-PDIR.YON-3MINIA SUBR , “ thank-INTS-COS John , PREP NMLZ1-speak-NMLZ.POSS-2MINII DEM1.PROΧ .',\n",
       " 'and 3AUG-be-GDIR.UP-PDIR.YON-3AUGIS place.DEM2.DIST RL-stand-GDIR.DOWN-APPL-PDIR.HITHER foot-3MINII AT.ΦNT.PL.PL people .',\n",
       " 'SUBR look-thruout-TR-3MINIA room DEM2.DIST and see-3MINII thing SUBR do-PLCT-1AUGI-PL , neck-3MINII feel.sad-INTS because NEG-NMLZ1-say-NMLZ.POSS-PDIR.HITHER-3MINIA-NEG DAT.1AUGII NMLZ1-forbid-NMLZ.POSS-3MINII NMLZ1-jump-GDIR.IN-NMLZ.POSS-1AUGII PREP room PCLF.B&G image cross .',\n",
       " '3AUG-desire-3AUGIA IRR-hurry-path-GDIR.IN-3AUGIA bush but place long-GDIR.OUT-PDIR.HITHER .',\n",
       " 'leave-PDIR.HITHER-1AUGII ᴄᴏᴍ.ᴘʟ place.DEM2.DIST and sleep-INTS-1AUGI ᴄᴏᴍ.ᴘʟ PREP field pineapple PCLF.B&G school .',\n",
       " 'choose-3MINIA those mankind SUBR IRR-be be.3ᴀᴜɢII committee PCLF.RSBL-3MINII .',\n",
       " 'thing SUBR be profession PCLF.HAND-3MINII PREP NMLZ1-ply.trade-NMLZ.POSS-3MINII NMLZ1-CAUS-fly-NMLZ.POSS-3MINII kite .',\n",
       " 'so.then be.1AUGII DEM2.DIST RL-paddle-COS-1AUGI MID-two-APPL-1AUGII .',\n",
       " 'SUBR see-PDIR.YON captain nctq-3MINII NMLZ1-two-NMLZ.POSS-3MINII PFV RL-cry-COS-3MINIS .',\n",
       " 'Aijz leave-PDIR.HITHER-3MINIS Reef.Is PFV RL-travel-path-COS-PDIR.HITHER-3MINIA DAT.1AUGII Nea.vil .',\n",
       " 'lying.down-TR-1AUGI place.DEM2.DIST minute five .',\n",
       " \"father-1MINII be.married-GDIR.DOWN-3MINIS PREP island Nemya'.Is place.DEM2.DIST Nea.vil .\",\n",
       " 'allow-2MINI NMLZ1-collect-NMLZ.POSS-1MINII-3MINIA ?”',\n",
       " 'NMLZ1-MID-say-3AUGIA IRR-two-1AUGI PREP highest.level.in.law-1MINII sadas Balo .',\n",
       " 'SUBR be.sick-INTS-much-COS-3MINIA DEM2.DIST , PFV RL-said-COS captain IRR-lying.down-INTS-COS PREP house-PCLF.B&G-SUBR-3AUG-be.sick-3AUGIS place.DEM2.DIST Pauabu .',\n",
       " 'enter.in-1MINI therein PREP January 1937 .',\n",
       " 'vowel these all good-INTS-GDIR.IN really PREP speaking PREP Natqgu .',\n",
       " 'PREP PAS-do-APPL-PDIR.YON NMLZ1-eat-APPL PCLF.FOOD-3AUGII portion two-just , PCLF.FOOD-2MINI doctor.med DEM2.DIST PREP captain and PCLF.FOOD-2MINI crew PCLF.RSBL-3AUGII-PL DEM2.DIST .',\n",
       " 'but MID-go-DPV-PDIR.HITHER person SUBR be.different-TR-GDIR.OUT-each-PL PREP Sunday those RL-go-APPL-PDIR.HITHER-3MINIA .',\n",
       " 'work-TR-INTS-PDIR.YON-1MIN.CMB PREP Kcoporetiv Sosaeti moon nine .',\n",
       " 'be.cooking-INTS , take-bz(PDIR.YON).o(1MINI) home and thank-INTS-APPL-PDIR.YON-1AUGI PREP god and Ellen DEM2.DIST RL-eat-COS .',\n",
       " '3AUG-go-PDIR.YON-3AUGIS and place DEM2.DIST RL-dark-COS and PFV RL.3AUG-sleep-COS-3AUGIS .',\n",
       " 'because none PCLF.B&G-1AUGII house , umbrella-TR-INTS-COS-APPL-1AUGII mat PCLF.FIRE-1AUGII-PL .',\n",
       " '01 . ancestor-1MINII-PL',\n",
       " 'start-1AUGI NMLZ1-CAUS-carry-NMLZ PREP area-sun DEM2.DIST RL-eight PREP morning go go reach-PDIR.YON-3MINIA area-sun DEM2.DIST RL-nine PREP night and possessions-3AUGII army DEM2.DIST RL-finish-GDIR.IN-afterward-PDIR.HITHER .',\n",
       " 'PREP NMLZ1-reach-NMLZ.POSS-PDIR.YON-1AUGI Paumalepc , PFV RL-CAUS-be.distributed.evenly-COS-1MINI be.3ᴀᴜɢII 40 sents .',\n",
       " 'but thing be.one SUBR bad-GDIR.IN therein , MID-bite-much-APPL flying.insect and be.sick-always-APPL-1AUGII ᴄᴏᴍ.ᴘʟ child SUBR-3AUG-be.schooled .',\n",
       " 'hurry-TR-INTS-GDIR.UP-1MINI spear PCLF.HAND-1MINII , take-GDIR.DOWN-PDIR.HITHER-1MINI , and PFV RL-spear-COS-1MINI , put-INTS-1MINII and be.1MINII DEM2.DIST RL-light.the.way-again-1MINI .',\n",
       " 'chapter DEM2.DIST ten-be.one-additional-3MINII-three',\n",
       " '3AUG-startled-APPL person those PAS-stand-COS-PDIR.YON ᴄᴏᴍ.ᴘʟ .',\n",
       " 'branch tree breadfruit DEM2.DIST RL-hold-1MINI hold-DPV-1MINI-3MINIIP DEM2.DIST root creeper.climber SUBR-live be.one .',\n",
       " 'wife GEN1A-1MINII there die-APPL-3MINII child SUBR-be.small .',\n",
       " 'be.good , PFV RL.3AUG-say-COS-3AUGIA MID-two-APPL-3AUGII SUBR-IRR-be.like IRR-CAUS-be.good-GDIR.IN-APPL-PDIR.YON-3AUGIA mind cross .',\n",
       " 'rain SUBR cover-GDIR.DOWN-PDIR.HITHER-3MINIA DEM2.DIST be.1AUGII DEM2.DIST RL-go-COS-1AUGI .',\n",
       " 'so.then be.1AUGII DEM2.DIST RL-swim.on.top-be.middle.of-across-COS-1AUGI water and RL-go-GDIR.IN-COS-1AUGI PREP field tree coconut PCLF.B&G school .',\n",
       " 'take-GDIR.DOWN-PDIR.HITHER-1AUGII PREP boat and be.1AUGII DEM2.DIST RL-paddle-COS-PDIR.HITHER-1AUGII home .',\n",
       " 'PFV RL-MID-say-COS-PDIR.HITHER-3MINIA DAT-1MINII SUBR , “ NEG-be-NEG mankind these , these stick !',\n",
       " 'be.1MINII INDF.SG SUBR enter.in-PDIR.YON-3MINIS ᴄᴏᴍ.ᴘʟ people those RL.3AUG-MID-believe-first-APPL-3AUGIS .',\n",
       " 'time long-INTS NMLZ1-search-TR-NMLZ.POSS-1AUGII-3MINIIP and PFV RL-mc-afterward-1AUGI .',\n",
       " 'NMLZ1-MID-treat.like.that-TR-NMLZ.POSS-bz(PDIR.YON).o(1MINI) DEM1.DIST money PCLF.HAND-3AUGII people fitting moon SUBR three .',\n",
       " 'SUBR none DEM2.DIST thing SUBR 3AUG-see-GDIR.OUT-PDIR.YON-3AUGIA PREP school , PFV RL.3AUG-go-GDIR.OUT-COS-PDIR.YON-3AUGIS PREP school .',\n",
       " 'RPRN2-DEM1.DIST-3MINII-PL NMLZ1-teach-NMLZ PREP school and NMLZ1-MID-exchange-NMLZ holy.writings .',\n",
       " 'SUBR-be.big DEM2.DIST mind-3MINII PFV RL-bad-COS-PDIR.HITHER DAT.1AUGII , RL-MID-say-COS-PDIR.HITHER-3MINIA DAT.1AUGII SUBR , \" why NEG-obey-APPL-PDIR.HITHER-2AUGI-NEG word-1MINII ?',\n",
       " 'a house SUBR-be.big PCLF.B&G government stand PREP floor .',\n",
       " 'MID-say-PDIR.HITHER Rik DAT.1MINII SUBR IRR-go-COS but IPFV IRR-go-PDIR.HITHER INDF.SG mankind different SUBR IRR-exchange-3MINIA be.3MINII .',\n",
       " 'travel-GDIR.IN-PDIR.YON-1AUGI and descend-1AUGI PREP wharf Auki .',\n",
       " 'SUBR sleep-isolated-APPL-1AUGII DEM2.DIST PREP night , rain SUBR-be.big DEM2.DIST RL-fall-COS , go-DPV-PDIR.HITHER wind , lightning and thunder .',\n",
       " 'MID-say-PDIR.YON father-1MINII DAT.3MINII SUBR , “ son-1MINII DEM1.PROΧ be.small NEG-allow-APPL-bz(PDIR.YON).o(1MINI)-NEG ; but know-1MINI PAS-allow-APPL-PDIR.YON a brother-3MINII those RL-be.big .”',\n",
       " 'group these two 3AUG-exchange-REFL-3AUGIS .',\n",
       " 'miracle ORD-two DEM1.DIST be.3MINII DEM2.DIST RL-see-COS prefect DEM1.DIST , and RL-say-COS-PDIR.HITHER-3MINIA DAT.1MINII IRR-tell-TR-GDIR.OUT-bz(PDIR.YON).o(1MINI) DAT.2AUGII be.like NMLZ1-see-NMLZ.POSS-1MINII-3MINIA .',\n",
       " 'and heart-kr pigeon those two be sacrifice-NMLZ.POSS cross , 3AUG-ignite-3AUGIA fire GEN1A-3MINII and PFV RL.3AUG-CAUS-burn-COS-3AUGIA .',\n",
       " 'PFV RL-go-COS-PDIR.YON-3MINIS ; shoot-INTS-3MINII mankind DEM2.DIST and ring-shatter-INTS-3MINII wireless DEM2.DIST .',\n",
       " '3AUG-go-also-3AUGIS DAT.3AUGII child TPNYM Guadalcanal 3AUG-three-3AUGIS SUBR IRR-lead-3AUGIA be.3ᴀᴜɢII .',\n",
       " '30 . NMLZ1-MID-tell-NMLZ.POSS-bz(PDIR.YON).o(1MINI) PREP child SUBR-3AUG-be.schooled Pawa.school miracle two',\n",
       " 'NMLZ1-be.schooled-NMLZ.POSS-1AUGII begin-GDIR.IN-COS but NEG-go-well-not.yet , because NMLZ1-work-NMLZ DEM1.PROΧ RL-be.demanding-INTS-GDIR.OUT-still but NMLZ1-be.schooled-NMLZ short-break-progressive .',\n",
       " 'NMLZ1-MID-call.someone-NMLZ Jesus and save-3MINIA people time there-just .',\n",
       " 'give-PDIR.YON-3MINIA PREP Srpi IRR-exchange-3MINIA Good.News DEM2.DIST RL-write Matthew .',\n",
       " 'house PCLF.B&G-1AUGII ᴄᴏᴍ.ᴘʟ father-1MINII be house 4.piece.roof , and room GEN1A-3MINII two .',\n",
       " 'mista Manfoot PFV RL-MID-say-COS-PDIR.HITHER-3MINIA DAT.1MINII SUBR time DEM2.DIST RL-wait-APPL-1MINII ship IRR-help-first-1MINI be.3ᴀᴜɢII PREP NMLZ1-teach-NMLZ , because class two none SUBR-3AUG-CAUS-know-GDIR.IN-3AUGIS therein .',\n",
       " 'so.then time DEM2.DIST-COS evening , food those PFV RL-take-GDIR.DOWN-COS father-1MINII PREP Menabz PREP room DEM2.DIST RL-stand-GDIR.OUT-APPL-PDIR.HITHER image cross .',\n",
       " 'MID-say-PDIR.YON monk John DAT.3MINII SUBR , \" daughter-2MINII go-COS-PDIR.HITHER-3MINIS bush this RL-CAUS-be.cooking-3MINIA food these ?\"',\n",
       " 'but NEG-eat-CMPL-3MINIA-NEG ; hold-dodge-INTS-3MINII , fall.down sea .',\n",
       " 'and MID-say-bz(PDIR.YON).o(1MINI) DAT.3MINII SUBR no .',\n",
       " 'SUBR reach-PDIR.YON-1AUGI Point Krus , PFV RL-see-COS-PDIR.YON-1AUGI ship GEN1A war SUBR-many NMLZ1-float-GDIR.IN-NMLZ.POSS-3MINII Lungga , and AT.ΦNT.PL.PL PFV RL.3AUG-travel-GDIR.OUT-3AUGIS and AT.ΦNT.PL NMLZ1-travel-GDIR.IN-PDIR.HITHER-3AUGIS , ship-SUBR-fly PFV RL.3AUG-fly-DSTR-3AUGIS .',\n",
       " 'SUBR reach-PDIR.HITHER-1AUGII DEM2.DIST Nctekzmuli NEG-paddle-COS-1MINI-NEG but bail-INTS-COS-PDIR.HITHER-1MIN.CMB , because wind powerful-INTS-much-COS .',\n",
       " 'name child there , Joseph Tealo .',\n",
       " 'but be.1AUGII thing SUBR be.big miss-INTS-APPL bullet .',\n",
       " 'time there , say-bz(PDIR.YON).o(1MINI) PREP Rik SUBR IRR-take-again-12MINI INDF.PL letter.note those RL.3AUG-throw.away-APPL PREP alphabet GEN1A Natqgu .',\n",
       " 'dance-1AUGI place daylight-INTS-GDIR.DOWN-3MINIS .',\n",
       " 'but MID-say-PDIR.HITHER-3MINIA SUBR IRR-paddle-TR-GDIR.OUT-1MINI RPRN2.DEM4.PL RL-plant-TR-1AUGI Dxi , because lest RL-rotten-INTS-GDIR.IN .',\n",
       " 'so.then whistle DEM2.DIST RL-cry-COS-3MINIS again SUBR lr Japan 3AUG-fly-COS-3AUGIS .',\n",
       " 'a day father-1MINII and Menabz 3AUG-CAUS-die-3AUGIA pigeon SUBR mankind-PROP two .',\n",
       " '63 . school DEM2.DIST Naim PAS-carry-GDIR.IN-PDIR.HITHER Naban',\n",
       " 'a DEM2.DIST mankind name-3MINII Metalo .',\n",
       " 'father-1MINII SUBR hear-PDIR.YON-3MINIA NMLZ1-say-GDIR.OUT-NMLZ.POSS Mzdealwx NMLZ1-believe-NMLZ.POSS-3MINII god GEN1A-3AUGII monk those PFV RL-obey-COS-also-3MINIA .',\n",
       " '11 . story GEN1A kite SUBR rope PCLF.ASSOC-3MINII break',\n",
       " 'said-again-PDIR.YON leader GEN1A army SUBR , \" be.2MINII mankind who ?\"',\n",
       " 'but wind SUBR be-INTS-3MINII DEM2.DIST PREP wind.SW PFV RL.3AUG-be-INTS-forever-COS-3AUGIS Reef.Is .',\n",
       " 'so.then PFV RL-take-COS also Rik Frank Yrpusz NMLZ1-become-NMLZ.POSS-3MINII also SUBR-MID-exchange word .',\n",
       " \"and start-again-1AUGI Uta finished Pa'lz , and island DEM2.PROΧ PFV RL-stand-thruout-COS PREP NMLZ1-work-NMLZ.POSS Gari Saemons .\",\n",
       " 'PREP NMLZ1-go-NMLZ.POSS-1AUGII DEM2.DIST , RL-go-GDIR.UP-1AUGI , RL-go-GDIR.DOWN-1AUGI and RL-MID-cross-TR-1AUGI water SUBR-be.big-TR-PL .',\n",
       " 'show-GDIR.OUT god thing SUBR-be.like-3MINIA these so.that IRR-believe-12AUGI and IRR-CAUS-trust-GDIR.IN-PDIR.YON-12AUGI neck-12AUGII PREP Jesus and father-3MINII god PREP thing all time DEM2.PROΧ RL-live-APPL-12AUGII PREP world .',\n",
       " 'so.then a child TPNYM Sikaiana PFV RL-climb-COS-PDIR.YON .',\n",
       " 'krlc a sign SUBR-powerful , a miracle .',\n",
       " 'a DEM2.DIST day IRR-go-away.from-1MINI a tree breadfruit .',\n",
       " 'Anna Teao SUBR depart-GDIR.OUT-3MINIA DEM2.DIST PREP school , travel-PDIR.HITHER PFV RL-two-COS-1AUGI COM.DU PREP NMLZ1-teach-NMLZ .',\n",
       " '79 . NMLZ1-be.difficult-NMLZ.POSS-PDIR.YON Natqgu DAT.3AUGII people those RL.3AUG-MID-exchange-3AUGIS word',\n",
       " '3AUG-remove.from.fire-GDIR.DOWN-PDIR.HITHER-3AUGIA , SUBR 3AUG-give-GDIR.DOWN-PDIR.YON-3AUGIA-3MINIIP PREP leaf SUBR 3AUG-lay-3AUGIA place.DEM2.DIST , chicken those be.in.pieces-INTS-GDIR.OUT-CMPL .',\n",
       " '42 . group-3AUGII two-COS miracle ORD-four PREP Mzli R Vea',\n",
       " 'SUBR 3AUG-recognize-3AUGIA NMLZ1-become-NMLZ.POSS-3AUGII lr Japan , PFV RL.3AUG-flee-COS-3AUGIS .',\n",
       " 'but PREP back.part-3MINII PFV RL.3AUG-accept-afterward-PDIR.YON AT.ΦNT.PL.PL people NMLZ1-obey-NMLZ.POSS-3AUGII Good.News .',\n",
       " 'ORD-two Yamzli eye-3MINII PAS-see Narnztilolx.vil PREP year 1918 .',\n",
       " 'because MID-work-APPL-1AUGII house SUBR-be.big-TR-PL .',\n",
       " 'start-again-1AUGI Ncipx.vil and sleep-1AUGI Nebz.vil .',\n",
       " 'and mista Sadrak Sunday SUBR be SUBR-be.big GEN1A school DEM1.DIST .',\n",
       " 'but NEG-know-1MINI-NEG SUBR 3AUG-return-again-PDIR.HITHER-3AUGIS , be.3ᴀᴜɢII these RL.3AUG-break-3AUGIA doorway DEM1.DIST or person different-PL .”',\n",
       " 'travel-GDIR.UP-1MINI place.DEM2.DIST RL-fork-APPL-3MINII , be.1MINII DEM2.DIST RL-stand-COS-1MINI .']"
      ]
     },
     "execution_count": 49,
     "metadata": {},
     "output_type": "execute_result"
    }
   ],
   "source": [
    "lang_gold"
   ]
  },
  {
   "cell_type": "code",
   "execution_count": 13,
   "metadata": {
    "ExecuteTime": {
     "end_time": "2024-02-01T23:18:07.385141Z",
     "start_time": "2024-02-01T23:18:07.379202Z"
    },
    "collapsed": false
   },
   "outputs": [
    {
     "data": {
      "text/plain": [
       "'PART 1.PL the.thing'"
      ]
     },
     "execution_count": 13,
     "metadata": {},
     "output_type": "execute_result"
    }
   ],
   "source": [
    "import re\n",
    "def strip_gloss_punctuation(glosses: str):\n",
    "    \"\"\"Strips any punctuation from gloss string (assuming it is surrounded by spaces)\"\"\"\n",
    "    return re.sub(r\"(\\s|^)[^\\w\\s](\\s|$)\", \" \", glosses).strip()\n",
    "\n",
    "strip_gloss_punctuation(\". PART 1.PL , the.thing !\")"
   ]
  },
  {
   "cell_type": "code",
   "execution_count": null,
   "metadata": {
    "collapsed": false
   },
   "outputs": [],
   "source": []
  }
 ],
 "metadata": {
  "kernelspec": {
   "display_name": "Python 3",
   "language": "python",
   "name": "python3"
  },
  "language_info": {
   "codemirror_mode": {
    "name": "ipython",
    "version": 2
   },
   "file_extension": ".py",
   "mimetype": "text/x-python",
   "name": "python",
   "nbconvert_exporter": "python",
   "pygments_lexer": "ipython2",
   "version": "3.10.undefined"
  }
 },
 "nbformat": 4,
 "nbformat_minor": 0
}
